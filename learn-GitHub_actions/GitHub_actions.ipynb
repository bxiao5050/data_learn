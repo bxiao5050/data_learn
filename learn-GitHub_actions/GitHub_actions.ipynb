{
 "cells": [
  {
   "attachments": {},
   "cell_type": "markdown",
   "metadata": {},
   "source": [
    "#### What is GitHub Actions\n",
    "- It's a workflow automation service. This service allows you to automate all kinds of repository-related processes and actions. There are two main areas of processes that can be automated. The most prominent area is CI/CD processes. \n",
    "\n",
    "- CI/CD: Continuous integration is all about integrating new code or code changes into an existing code base by building that code automatically. So that changed code by testing it automatically and by then merging it into existing code. Continuous delivery or deployment is about publishing new versions of your app or package or website automatically after the code has been tested and integrated. So it's all about automation and it's about automatically handling code changes.\n",
    "\n",
    "- GitHub Actions makes setting up and configuring and running such CI/CD workflows a breeze. It makes it very easy for you to set up processes that do automatically build, test, and publish new versions of your app, website, or package whenever you make a code change. But it's not the only kind of workflow or process that can be automated with GitHub Actions. Instead, GitHub Actions also helps you with code and repository management. It can help with automating code reviews or issue management. \n",
    "\n",
    "\n",
    "<div align = \"middle\">\n",
    "<img src=\"img/Snipaste_2023-01-05_10-59-33.jpg\" width=\"700\">\n",
    "</div>"
   ]
  },
  {
   "attachments": {},
   "cell_type": "markdown",
   "metadata": {},
   "source": [
    "#### Key Components: Workflows, Jobs and Steps\n",
    "\n",
    "<div align = \"middle\">\n",
    "<img src=\"img/aa.png\" width=\"700\">\n",
    "</div>"
   ]
  },
  {
   "attachments": {},
   "cell_type": "markdown",
   "metadata": {},
   "source": [
    "### Create the first workflow\n",
    "\n",
    "    name: First Workflow\n",
    "    on: workflow_dispatch\n",
    "    jobs:\n",
    "        first-job:\n",
    "            runs-on: ubuntu-lastest\n",
    "            steps:\n",
    "                - name: Print greeting\n",
    "                    run: echo \"Hello world\"\n",
    "                - name: Print goodbye\n",
    "                    run: echo \"googbye\""
   ]
  },
  {
   "attachments": {},
   "cell_type": "markdown",
   "metadata": {},
   "source": [
    "### Events == Workflow Triggers\n",
    "\n",
    "\n",
    "<div align = \"middle\">\n",
    "<img src=\"img/kl.png\" width=\"700\">\n",
    "</div>"
   ]
  },
  {
   "cell_type": "markdown",
   "metadata": {},
   "source": []
  },
  {
   "cell_type": "code",
   "execution_count": null,
   "metadata": {},
   "outputs": [],
   "source": []
  }
 ],
 "metadata": {
  "kernelspec": {
   "display_name": "straumann-dev-jXAt902V-py3.11",
   "language": "python",
   "name": "python3"
  },
  "language_info": {
   "name": "python",
   "version": "3.11.1 (main, Jan  6 2023, 02:41:45) [Clang 14.0.0 (clang-1400.0.29.202)]"
  },
  "orig_nbformat": 4,
  "vscode": {
   "interpreter": {
    "hash": "bb258356fad554ad03e076415023c633e50909e2701d2041fe3d6071b5c85d3b"
   }
  }
 },
 "nbformat": 4,
 "nbformat_minor": 2
}
