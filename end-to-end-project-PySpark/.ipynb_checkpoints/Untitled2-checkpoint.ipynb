{
 "cells": [
  {
   "cell_type": "markdown",
   "id": "7eea3e10",
   "metadata": {},
   "source": [
    "### connect s3 using boto3"
   ]
  },
  {
   "cell_type": "code",
   "execution_count": 3,
   "id": "c9ff50a5",
   "metadata": {},
   "outputs": [],
   "source": [
    "import boto3\n",
    "import pandas as pd"
   ]
  },
  {
   "cell_type": "code",
   "execution_count": 4,
   "id": "bb9ee731",
   "metadata": {},
   "outputs": [],
   "source": [
    "#connect to s3 object storage\n",
    "s3 = boto3.resource('s3')"
   ]
  },
  {
   "cell_type": "code",
   "execution_count": 10,
   "id": "9fd02ec8",
   "metadata": {},
   "outputs": [
    {
     "name": "stdout",
     "output_type": "stream",
     "text": [
      "bxiaobxiao.bucket\n",
      "new-bucket-bxiao5050\n"
     ]
    }
   ],
   "source": [
    "#view all buckets in s3\n",
    "for bucket in s3.buckets.all():\n",
    "    print(bucket.name)"
   ]
  },
  {
   "cell_type": "code",
   "execution_count": 9,
   "id": "768b6e0d",
   "metadata": {},
   "outputs": [],
   "source": [
    "#create a bucket called 'new-bucket-bxiao5050'\n",
    "location = {'LocationConstraint': 'eu-central-1'}\n",
    "new_bucket = s3.create_bucket(Bucket = 'new-bucket-bxiao5050', CreateBucketConfiguration=location)"
   ]
  },
  {
   "cell_type": "code",
   "execution_count": null,
   "id": "44e81e6c",
   "metadata": {},
   "outputs": [],
   "source": []
  }
 ],
 "metadata": {
  "kernelspec": {
   "display_name": "Python 3 (ipykernel)",
   "language": "python",
   "name": "python3"
  },
  "language_info": {
   "codemirror_mode": {
    "name": "ipython",
    "version": 3
   },
   "file_extension": ".py",
   "mimetype": "text/x-python",
   "name": "python",
   "nbconvert_exporter": "python",
   "pygments_lexer": "ipython3",
   "version": "3.11.0"
  }
 },
 "nbformat": 4,
 "nbformat_minor": 5
}
