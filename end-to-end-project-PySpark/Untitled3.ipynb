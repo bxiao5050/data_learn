{
 "cells": [
  {
   "cell_type": "markdown",
   "id": "83dfa4d5",
   "metadata": {},
   "source": [
    "### use datetime package"
   ]
  },
  {
   "cell_type": "code",
   "execution_count": 4,
   "id": "be7e8da7",
   "metadata": {},
   "outputs": [],
   "source": [
    "from datetime import datetime\n",
    "\n",
    "#current date and time\n",
    "now = datetime.now()"
   ]
  },
  {
   "cell_type": "code",
   "execution_count": 9,
   "id": "49de4908",
   "metadata": {},
   "outputs": [
    {
     "name": "stdout",
     "output_type": "stream",
     "text": [
      "year: 22\n",
      "month: 11\n",
      "day: 29\n",
      "time: 15:29:53\n"
     ]
    }
   ],
   "source": [
    "#print year, month and day and time\n",
    "year = now.strftime(\"%y\") #year\n",
    "month = now.strftime(\"%m\")\n",
    "day = now.strftime(\"%d\")\n",
    "time = now.strftime(\"%H:%M:%S\")\n",
    "\n",
    "print(f'year: {year}')\n",
    "print(f'month: {month}')\n",
    "print(f'day: {day}')\n",
    "print(f'time: {time}')"
   ]
  },
  {
   "cell_type": "code",
   "execution_count": null,
   "id": "967591e8",
   "metadata": {},
   "outputs": [],
   "source": []
  }
 ],
 "metadata": {
  "kernelspec": {
   "display_name": "Python 3 (ipykernel)",
   "language": "python",
   "name": "python3"
  },
  "language_info": {
   "codemirror_mode": {
    "name": "ipython",
    "version": 3
   },
   "file_extension": ".py",
   "mimetype": "text/x-python",
   "name": "python",
   "nbconvert_exporter": "python",
   "pygments_lexer": "ipython3",
   "version": "3.11.0"
  }
 },
 "nbformat": 4,
 "nbformat_minor": 5
}
