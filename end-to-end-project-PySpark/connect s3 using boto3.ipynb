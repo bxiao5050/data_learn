{
 "cells": [
  {
   "cell_type": "markdown",
   "id": "34669e9b",
   "metadata": {},
   "source": [
    "### connect s3 using boto3"
   ]
  },
  {
   "cell_type": "code",
   "execution_count": 3,
   "id": "ead78c7a",
   "metadata": {},
   "outputs": [],
   "source": [
    "import boto3\n",
    "import pandas as pd"
   ]
  },
  {
   "cell_type": "code",
   "execution_count": 4,
   "id": "28522e46",
   "metadata": {},
   "outputs": [],
   "source": [
    "#connect to s3 object storage\n",
    "s3 = boto3.resource('s3')"
   ]
  },
  {
   "cell_type": "code",
   "execution_count": 9,
   "id": "ee48f8bd",
   "metadata": {},
   "outputs": [],
   "source": [
    "#create a bucket called 'new-bucket-bxiao5050'\n",
    "location = {'LocationConstraint': 'eu-central-1'}\n",
    "new_bucket = s3.create_bucket(Bucket = 'new-bucket-bxiao5050', CreateBucketConfiguration=location)"
   ]
  },
  {
   "cell_type": "code",
   "execution_count": 11,
   "id": "fb74518b",
   "metadata": {},
   "outputs": [
    {
     "name": "stdout",
     "output_type": "stream",
     "text": [
      "bxiaobxiao.bucket\n",
      "new-bucket-bxiao5050\n"
     ]
    }
   ],
   "source": [
    "#view all buckets in s3\n",
    "for bucket in s3.buckets.all():\n",
    "    print(bucket.name)"
   ]
  },
  {
   "cell_type": "markdown",
   "id": "7e3aff27",
   "metadata": {},
   "source": [
    "#### select a bucket, and upload, download and delete objects"
   ]
  },
  {
   "cell_type": "code",
   "execution_count": 14,
   "id": "47fb41a6",
   "metadata": {},
   "outputs": [],
   "source": [
    "#select bucket of 'bxiaobxiao.bucket'\n",
    "bucket = s3.Bucket('bxiaobxiao.bucket')"
   ]
  },
  {
   "cell_type": "code",
   "execution_count": 22,
   "id": "b2ed3842",
   "metadata": {},
   "outputs": [],
   "source": [
    "#upload a file\n",
    "local_file_path = '2022-04-25_BINS_XETR1415.csv'\n",
    "key_object = 'added/a/new/object/test_data.csv'\n",
    "\n",
    "bucket.upload_file(local_file_path, key_object)"
   ]
  },
  {
   "cell_type": "code",
   "execution_count": 24,
   "id": "9373be08",
   "metadata": {},
   "outputs": [
    {
     "name": "stdout",
     "output_type": "stream",
     "text": [
      "s3.ObjectSummary(bucket_name='bxiaobxiao.bucket', key='added/a/new/object/data.csv')\n",
      "s3.ObjectSummary(bucket_name='bxiaobxiao.bucket', key='added/a/new/object/test_data.csv')\n"
     ]
    }
   ],
   "source": [
    "#show all objects from 'bxiaobxiao.bucket'\n",
    "for obj in bucket.objects.all():\n",
    "    print(obj)"
   ]
  },
  {
   "cell_type": "markdown",
   "id": "0b2a9dea",
   "metadata": {},
   "source": [
    "##### convert an object to dataframe"
   ]
  },
  {
   "cell_type": "code",
   "execution_count": 32,
   "id": "fbfc680d",
   "metadata": {},
   "outputs": [
    {
     "name": "stdout",
     "output_type": "stream",
     "text": [
      "<class 'str'>\n"
     ]
    }
   ],
   "source": [
    "#get the content of this object, the content is in the string format\n",
    "csv_obj = bucket.Object(key = 'added/a/new/object/data.csv').get().get('Body').read().decode('utf-8')\n",
    "print(type(csv_obj))\n",
    "csv_obj"
   ]
  },
  {
   "cell_type": "code",
   "execution_count": 36,
   "id": "40d81d42",
   "metadata": {},
   "outputs": [
    {
     "data": {
      "text/html": [
       "<div>\n",
       "<style scoped>\n",
       "    .dataframe tbody tr th:only-of-type {\n",
       "        vertical-align: middle;\n",
       "    }\n",
       "\n",
       "    .dataframe tbody tr th {\n",
       "        vertical-align: top;\n",
       "    }\n",
       "\n",
       "    .dataframe thead th {\n",
       "        text-align: right;\n",
       "    }\n",
       "</style>\n",
       "<table border=\"1\" class=\"dataframe\">\n",
       "  <thead>\n",
       "    <tr style=\"text-align: right;\">\n",
       "      <th></th>\n",
       "      <th>ISIN</th>\n",
       "      <th>Mnemonic</th>\n",
       "      <th>SecurityDesc</th>\n",
       "      <th>SecurityType</th>\n",
       "      <th>Currency</th>\n",
       "      <th>SecurityID</th>\n",
       "      <th>Date</th>\n",
       "      <th>Time</th>\n",
       "      <th>StartPrice</th>\n",
       "      <th>MaxPrice</th>\n",
       "      <th>MinPrice</th>\n",
       "      <th>EndPrice</th>\n",
       "      <th>TradedVolume</th>\n",
       "      <th>NumberOfTrades</th>\n",
       "    </tr>\n",
       "  </thead>\n",
       "  <tbody>\n",
       "    <tr>\n",
       "      <th>0</th>\n",
       "      <td>AT0000A0E9W5</td>\n",
       "      <td>SANT</td>\n",
       "      <td>S+T AG O.N.</td>\n",
       "      <td>Common stock</td>\n",
       "      <td>EUR</td>\n",
       "      <td>2504159</td>\n",
       "      <td>2022-01-20</td>\n",
       "      <td>08:00</td>\n",
       "      <td>15.14</td>\n",
       "      <td>15.25</td>\n",
       "      <td>15.11</td>\n",
       "      <td>15.25</td>\n",
       "      <td>14239</td>\n",
       "      <td>9</td>\n",
       "    </tr>\n",
       "    <tr>\n",
       "      <th>1</th>\n",
       "      <td>DE000A0DJ6J9</td>\n",
       "      <td>S92</td>\n",
       "      <td>SMA SOLAR TECHNOL.AG</td>\n",
       "      <td>Common stock</td>\n",
       "      <td>EUR</td>\n",
       "      <td>2504287</td>\n",
       "      <td>2022-01-20</td>\n",
       "      <td>08:00</td>\n",
       "      <td>32.80</td>\n",
       "      <td>32.80</td>\n",
       "      <td>32.80</td>\n",
       "      <td>32.80</td>\n",
       "      <td>357</td>\n",
       "      <td>1</td>\n",
       "    </tr>\n",
       "    <tr>\n",
       "      <th>2</th>\n",
       "      <td>DE000A0D6554</td>\n",
       "      <td>NDX1</td>\n",
       "      <td>NORDEX SE O.N.</td>\n",
       "      <td>Common stock</td>\n",
       "      <td>EUR</td>\n",
       "      <td>2504290</td>\n",
       "      <td>2022-01-20</td>\n",
       "      <td>08:00</td>\n",
       "      <td>13.97</td>\n",
       "      <td>14.10</td>\n",
       "      <td>13.96</td>\n",
       "      <td>14.09</td>\n",
       "      <td>18908</td>\n",
       "      <td>32</td>\n",
       "    </tr>\n",
       "    <tr>\n",
       "      <th>3</th>\n",
       "      <td>DE000A0D9PT0</td>\n",
       "      <td>MTX</td>\n",
       "      <td>MTU AERO ENGINES NA O.N.</td>\n",
       "      <td>Common stock</td>\n",
       "      <td>EUR</td>\n",
       "      <td>2504297</td>\n",
       "      <td>2022-01-20</td>\n",
       "      <td>08:00</td>\n",
       "      <td>198.60</td>\n",
       "      <td>199.15</td>\n",
       "      <td>198.10</td>\n",
       "      <td>198.65</td>\n",
       "      <td>2216</td>\n",
       "      <td>29</td>\n",
       "    </tr>\n",
       "    <tr>\n",
       "      <th>4</th>\n",
       "      <td>DE000A0HN5C6</td>\n",
       "      <td>DWNI</td>\n",
       "      <td>DEUTSCHE WOHNEN SE INH</td>\n",
       "      <td>Common stock</td>\n",
       "      <td>EUR</td>\n",
       "      <td>2504314</td>\n",
       "      <td>2022-01-20</td>\n",
       "      <td>08:00</td>\n",
       "      <td>35.49</td>\n",
       "      <td>35.49</td>\n",
       "      <td>35.38</td>\n",
       "      <td>35.43</td>\n",
       "      <td>469</td>\n",
       "      <td>6</td>\n",
       "    </tr>\n",
       "  </tbody>\n",
       "</table>\n",
       "</div>"
      ],
      "text/plain": [
       "           ISIN Mnemonic              SecurityDesc  SecurityType Currency  \\\n",
       "0  AT0000A0E9W5     SANT               S+T AG O.N.  Common stock      EUR   \n",
       "1  DE000A0DJ6J9      S92      SMA SOLAR TECHNOL.AG  Common stock      EUR   \n",
       "2  DE000A0D6554     NDX1            NORDEX SE O.N.  Common stock      EUR   \n",
       "3  DE000A0D9PT0      MTX  MTU AERO ENGINES NA O.N.  Common stock      EUR   \n",
       "4  DE000A0HN5C6     DWNI    DEUTSCHE WOHNEN SE INH  Common stock      EUR   \n",
       "\n",
       "   SecurityID        Date   Time  StartPrice  MaxPrice  MinPrice  EndPrice  \\\n",
       "0     2504159  2022-01-20  08:00       15.14     15.25     15.11     15.25   \n",
       "1     2504287  2022-01-20  08:00       32.80     32.80     32.80     32.80   \n",
       "2     2504290  2022-01-20  08:00       13.97     14.10     13.96     14.09   \n",
       "3     2504297  2022-01-20  08:00      198.60    199.15    198.10    198.65   \n",
       "4     2504314  2022-01-20  08:00       35.49     35.49     35.38     35.43   \n",
       "\n",
       "   TradedVolume  NumberOfTrades  \n",
       "0         14239               9  \n",
       "1           357               1  \n",
       "2         18908              32  \n",
       "3          2216              29  \n",
       "4           469               6  "
      ]
     },
     "execution_count": 36,
     "metadata": {},
     "output_type": "execute_result"
    }
   ],
   "source": [
    "#use package StringIO to convert string to dataframe\n",
    "from io import StringIO\n",
    "data = StringIO(csv_obj)\n",
    "\n",
    "df = pd.read_csv(data, delimiter = \",\")\n",
    "df.head()"
   ]
  },
  {
   "cell_type": "markdown",
   "id": "44c8ed1b",
   "metadata": {},
   "source": [
    "#### convert dataframe to parquet and upload to s3 (bucket name: new-bucket-bxiao5050)"
   ]
  },
  {
   "cell_type": "code",
   "execution_count": 45,
   "id": "a8f08ccf",
   "metadata": {},
   "outputs": [
    {
     "data": {
      "text/plain": [
       "s3.Object(bucket_name='new-bucket-bxiao5050', key='upload/a/file/xxx.parquet')"
      ]
     },
     "execution_count": 45,
     "metadata": {},
     "output_type": "execute_result"
    }
   ],
   "source": [
    "#need to install pyarrow package, and use io.BytesIO to get a buffer to the parquet content\n",
    "from io import BytesIO\n",
    "\n",
    "out_buffer = BytesIO()\n",
    "df_new = df[['ISIN', 'EndPrice']]\n",
    "df_new.to_parquet(out_buffer, index = False)\n",
    "\n",
    "s3.Bucket('new-bucket-bxiao5050').put_object(Body=out_buffer.getvalue(), Key = 'upload/a/file/xxx.parquet')"
   ]
  },
  {
   "cell_type": "code",
   "execution_count": 46,
   "id": "e87ca975",
   "metadata": {},
   "outputs": [
    {
     "name": "stdout",
     "output_type": "stream",
     "text": [
      "s3.ObjectSummary(bucket_name='new-bucket-bxiao5050', key='upload/a/file/xxx.parquet')\n"
     ]
    },
    {
     "data": {
      "text/plain": [
       "[None]"
      ]
     },
     "execution_count": 46,
     "metadata": {},
     "output_type": "execute_result"
    }
   ],
   "source": [
    "#list all objects from new-bucket-bxiao5050 bucket\n",
    "[print(obj) for obj in s3.Bucket('new-bucket-bxiao5050').objects.all()]"
   ]
  },
  {
   "cell_type": "markdown",
   "id": "dc051cf7",
   "metadata": {},
   "source": [
    "#### read the uploaded parquet file"
   ]
  },
  {
   "cell_type": "code",
   "execution_count": 47,
   "id": "c8f9b46b",
   "metadata": {},
   "outputs": [
    {
     "data": {
      "text/html": [
       "<div>\n",
       "<style scoped>\n",
       "    .dataframe tbody tr th:only-of-type {\n",
       "        vertical-align: middle;\n",
       "    }\n",
       "\n",
       "    .dataframe tbody tr th {\n",
       "        vertical-align: top;\n",
       "    }\n",
       "\n",
       "    .dataframe thead th {\n",
       "        text-align: right;\n",
       "    }\n",
       "</style>\n",
       "<table border=\"1\" class=\"dataframe\">\n",
       "  <thead>\n",
       "    <tr style=\"text-align: right;\">\n",
       "      <th></th>\n",
       "      <th>ISIN</th>\n",
       "      <th>EndPrice</th>\n",
       "    </tr>\n",
       "  </thead>\n",
       "  <tbody>\n",
       "    <tr>\n",
       "      <th>0</th>\n",
       "      <td>AT0000A0E9W5</td>\n",
       "      <td>15.25</td>\n",
       "    </tr>\n",
       "    <tr>\n",
       "      <th>1</th>\n",
       "      <td>DE000A0DJ6J9</td>\n",
       "      <td>32.80</td>\n",
       "    </tr>\n",
       "    <tr>\n",
       "      <th>2</th>\n",
       "      <td>DE000A0D6554</td>\n",
       "      <td>14.09</td>\n",
       "    </tr>\n",
       "    <tr>\n",
       "      <th>3</th>\n",
       "      <td>DE000A0D9PT0</td>\n",
       "      <td>198.65</td>\n",
       "    </tr>\n",
       "    <tr>\n",
       "      <th>4</th>\n",
       "      <td>DE000A0HN5C6</td>\n",
       "      <td>35.43</td>\n",
       "    </tr>\n",
       "  </tbody>\n",
       "</table>\n",
       "</div>"
      ],
      "text/plain": [
       "           ISIN  EndPrice\n",
       "0  AT0000A0E9W5     15.25\n",
       "1  DE000A0DJ6J9     32.80\n",
       "2  DE000A0D6554     14.09\n",
       "3  DE000A0D9PT0    198.65\n",
       "4  DE000A0HN5C6     35.43"
      ]
     },
     "execution_count": 47,
     "metadata": {},
     "output_type": "execute_result"
    }
   ],
   "source": [
    "prq_obj = s3.Bucket('new-bucket-bxiao5050').Object(key='upload/a/file/xxx.parquet').get().get('Body').read()\n",
    "data = BytesIO(prq_obj)\n",
    "df_prq = pd.read_parquet(data)\n",
    "df_prq.head()"
   ]
  },
  {
   "cell_type": "code",
   "execution_count": null,
   "id": "7be8d1a7",
   "metadata": {},
   "outputs": [],
   "source": []
  }
 ],
 "metadata": {
  "kernelspec": {
   "display_name": "Python 3 (ipykernel)",
   "language": "python",
   "name": "python3"
  },
  "language_info": {
   "codemirror_mode": {
    "name": "ipython",
    "version": 3
   },
   "file_extension": ".py",
   "mimetype": "text/x-python",
   "name": "python",
   "nbconvert_exporter": "python",
   "pygments_lexer": "ipython3",
   "version": "3.11.0"
  }
 },
 "nbformat": 4,
 "nbformat_minor": 5
}
