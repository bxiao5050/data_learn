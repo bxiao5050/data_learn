{
 "cells": [
  {
   "cell_type": "code",
   "execution_count": 1,
   "id": "ecd45493",
   "metadata": {},
   "outputs": [],
   "source": [
    "import pandas as pd"
   ]
  },
  {
   "cell_type": "code",
   "execution_count": 2,
   "id": "41398b34",
   "metadata": {},
   "outputs": [
    {
     "data": {
      "text/html": [
       "<div>\n",
       "<style scoped>\n",
       "    .dataframe tbody tr th:only-of-type {\n",
       "        vertical-align: middle;\n",
       "    }\n",
       "\n",
       "    .dataframe tbody tr th {\n",
       "        vertical-align: top;\n",
       "    }\n",
       "\n",
       "    .dataframe thead th {\n",
       "        text-align: right;\n",
       "    }\n",
       "</style>\n",
       "<table border=\"1\" class=\"dataframe\">\n",
       "  <thead>\n",
       "    <tr style=\"text-align: right;\">\n",
       "      <th></th>\n",
       "      <th>c</th>\n",
       "      <th>type</th>\n",
       "    </tr>\n",
       "  </thead>\n",
       "  <tbody>\n",
       "    <tr>\n",
       "      <th>0</th>\n",
       "      <td>1</td>\n",
       "      <td>m</td>\n",
       "    </tr>\n",
       "    <tr>\n",
       "      <th>1</th>\n",
       "      <td>1</td>\n",
       "      <td>n</td>\n",
       "    </tr>\n",
       "    <tr>\n",
       "      <th>2</th>\n",
       "      <td>1</td>\n",
       "      <td>o</td>\n",
       "    </tr>\n",
       "    <tr>\n",
       "      <th>3</th>\n",
       "      <td>2</td>\n",
       "      <td>m</td>\n",
       "    </tr>\n",
       "    <tr>\n",
       "      <th>4</th>\n",
       "      <td>2</td>\n",
       "      <td>m</td>\n",
       "    </tr>\n",
       "    <tr>\n",
       "      <th>5</th>\n",
       "      <td>2</td>\n",
       "      <td>n</td>\n",
       "    </tr>\n",
       "    <tr>\n",
       "      <th>6</th>\n",
       "      <td>2</td>\n",
       "      <td>n</td>\n",
       "    </tr>\n",
       "  </tbody>\n",
       "</table>\n",
       "</div>"
      ],
      "text/plain": [
       "   c type\n",
       "0  1    m\n",
       "1  1    n\n",
       "2  1    o\n",
       "3  2    m\n",
       "4  2    m\n",
       "5  2    n\n",
       "6  2    n"
      ]
     },
     "execution_count": 2,
     "metadata": {},
     "output_type": "execute_result"
    }
   ],
   "source": [
    "df = pd.DataFrame({\n",
    "    \"c\": [1, 1, 1, 2, 2, 2, 2],\n",
    "    \"type\": [\"m\", \"n\", \"o\", \"m\", \"m\", \"n\", \"n\"]\n",
    "})\n",
    "df"
   ]
  },
  {
   "cell_type": "code",
   "execution_count": 12,
   "id": "09f31a9c",
   "metadata": {},
   "outputs": [
    {
     "name": "stdout",
     "output_type": "stream",
     "text": [
      "              c\n",
      "sum   11.000000\n",
      "mean   1.571429\n"
     ]
    }
   ],
   "source": [
    "print(df.agg({'c': ['sum', 'mean']}))"
   ]
  },
  {
   "cell_type": "code",
   "execution_count": 22,
   "id": "98b763b5",
   "metadata": {},
   "outputs": [
    {
     "name": "stdout",
     "output_type": "stream",
     "text": [
      "     c  type\n",
      "0  NaN  None\n",
      "1  1.0     m\n",
      "2  1.0     n\n",
      "3  1.0     o\n",
      "4  2.0     m\n",
      "5  2.0     m\n",
      "6  2.0     n\n"
     ]
    }
   ],
   "source": [
    "print(df.shift(1))"
   ]
  },
  {
   "cell_type": "code",
   "execution_count": 17,
   "id": "4e906f2d",
   "metadata": {},
   "outputs": [
    {
     "name": "stdout",
     "output_type": "stream",
     "text": [
      "      c                                   \n",
      "  count mean  std  min  25%  50%  75%  max\n",
      "c                                         \n",
      "1   3.0  1.0  0.0  1.0  1.0  1.0  1.0  1.0\n",
      "2   4.0  2.0  0.0  2.0  2.0  2.0  2.0  2.0\n"
     ]
    }
   ],
   "source": [
    "print(df.groupby('c').agg({'c':'describe'}).round(0))"
   ]
  },
  {
   "cell_type": "code",
   "execution_count": 21,
   "id": "6ce49cc3",
   "metadata": {},
   "outputs": [
    {
     "name": "stdout",
     "output_type": "stream",
     "text": [
      "Index(['count', 'mean'], dtype='object')\n"
     ]
    }
   ],
   "source": [
    "dd = df.agg(count=('c', 'count'), mean=('c', 'mean'))\n",
    "print(dd.index)"
   ]
  },
  {
   "cell_type": "code",
   "execution_count": 13,
   "id": "8de81755",
   "metadata": {},
   "outputs": [
    {
     "name": "stdout",
     "output_type": "stream",
     "text": [
      "              c\n",
      "count  7.000000\n",
      "mean   1.571429\n",
      "std    0.534522\n",
      "min    1.000000\n",
      "25%    1.000000\n",
      "50%    2.000000\n",
      "75%    2.000000\n",
      "max    2.000000\n"
     ]
    }
   ],
   "source": [
    "print(df.describe())"
   ]
  },
  {
   "cell_type": "code",
   "execution_count": 10,
   "id": "d548b02d",
   "metadata": {},
   "outputs": [
    {
     "name": "stdout",
     "output_type": "stream",
     "text": [
      "sum     11.000000\n",
      "mean     1.571429\n",
      "Name: c, dtype: float64\n"
     ]
    }
   ],
   "source": [
    "print(df['c'].agg(['sum', 'mean']))"
   ]
  },
  {
   "cell_type": "code",
   "execution_count": 8,
   "id": "66a18278",
   "metadata": {},
   "outputs": [
    {
     "data": {
      "text/plain": [
       "0    o\n",
       "1    o\n",
       "2    o\n",
       "3    n\n",
       "4    n\n",
       "5    n\n",
       "6    n\n",
       "Name: type, dtype: object"
      ]
     },
     "execution_count": 8,
     "metadata": {},
     "output_type": "execute_result"
    }
   ],
   "source": [
    "dff = df.groupby('c')['type'].transform('last')\n",
    "dff"
   ]
  }
 ],
 "metadata": {
  "kernelspec": {
   "display_name": "Python 3 (ipykernel)",
   "language": "python",
   "name": "python3"
  },
  "language_info": {
   "codemirror_mode": {
    "name": "ipython",
    "version": 3
   },
   "file_extension": ".py",
   "mimetype": "text/x-python",
   "name": "python",
   "nbconvert_exporter": "python",
   "pygments_lexer": "ipython3",
   "version": "3.11.0"
  }
 },
 "nbformat": 4,
 "nbformat_minor": 5
}
