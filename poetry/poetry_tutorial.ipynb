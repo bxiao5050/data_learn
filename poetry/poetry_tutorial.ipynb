{
 "cells": [
  {
   "attachments": {},
   "cell_type": "markdown",
   "metadata": {},
   "source": [
    "### 1. install pyenv + poetry on MacOS\n",
    "\n",
    "install pyenv and setup according to this [link](https://medium.com/macoclock/django-setup-in-2022-with-pyenv-poetry-on-macos-b0969830bec8)\n"
   ]
  },
  {
   "attachments": {},
   "cell_type": "markdown",
   "metadata": {},
   "source": [
    "#### 2. keep the virtualenv in the same folder as project\n",
    "```python\n",
    "# create virtualenv inside the project folder\n",
    "poetry config virtualenvs.in-project true\n",
    "\n",
    "# If you already have created your project, you need to re-create the virtualenv to make it appear in the correct place:\n",
    "poetry env list  # shows the name of the current environment\n",
    "poetry env remove <current environment>\n",
    "poetry install  # will create a new environment using your updated configuration\n",
    "```"
   ]
  },
  {
   "cell_type": "markdown",
   "metadata": {},
   "source": []
  },
  {
   "attachments": {},
   "cell_type": "markdown",
   "metadata": {},
   "source": [
    "#### 3. other\n",
    "```python\n",
    "# start a poetry shell\n",
    "poetry shell\n",
    "\n",
    "#export requirements.txt\n",
    "poetry export -f requirements.txt --output requirements.txt\n",
    "\n",
    "```"
   ]
  },
  {
   "cell_type": "markdown",
   "metadata": {},
   "source": []
  }
 ],
 "metadata": {
  "language_info": {
   "name": "python"
  },
  "orig_nbformat": 4
 },
 "nbformat": 4,
 "nbformat_minor": 2
}
